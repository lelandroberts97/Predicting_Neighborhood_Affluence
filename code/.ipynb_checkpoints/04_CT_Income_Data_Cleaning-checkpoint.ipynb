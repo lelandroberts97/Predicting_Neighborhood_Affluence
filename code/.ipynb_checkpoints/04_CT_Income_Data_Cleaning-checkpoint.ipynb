{
 "cells": [
  {
   "cell_type": "markdown",
   "metadata": {},
   "source": [
    "# Data Cleaning: CT Income"
   ]
  },
  {
   "cell_type": "code",
   "execution_count": 5,
   "metadata": {
    "ExecuteTime": {
     "end_time": "2020-02-19T13:25:12.821231Z",
     "start_time": "2020-02-19T13:25:12.304305Z"
    }
   },
   "outputs": [],
   "source": [
    "# Imports\n",
    "import pandas as pd "
   ]
  },
  {
   "cell_type": "code",
   "execution_count": 6,
   "metadata": {
    "ExecuteTime": {
     "end_time": "2020-02-19T13:25:13.055386Z",
     "start_time": "2020-02-19T13:25:13.047719Z"
    }
   },
   "outputs": [],
   "source": [
    "# Reading in the CT income data\n",
    "df = pd.read_csv('../data/ct_income_raw.csv')"
   ]
  },
  {
   "cell_type": "code",
   "execution_count": 7,
   "metadata": {},
   "outputs": [
    {
     "data": {
      "text/html": [
       "<div>\n",
       "<style scoped>\n",
       "    .dataframe tbody tr th:only-of-type {\n",
       "        vertical-align: middle;\n",
       "    }\n",
       "\n",
       "    .dataframe tbody tr th {\n",
       "        vertical-align: top;\n",
       "    }\n",
       "\n",
       "    .dataframe thead th {\n",
       "        text-align: right;\n",
       "    }\n",
       "</style>\n",
       "<table border=\"1\" class=\"dataframe\">\n",
       "  <thead>\n",
       "    <tr style=\"text-align: right;\">\n",
       "      <th></th>\n",
       "      <th>city</th>\n",
       "      <th>median_household_income</th>\n",
       "      <th>mean_household_income</th>\n",
       "      <th>per_capita_income</th>\n",
       "    </tr>\n",
       "  </thead>\n",
       "  <tbody>\n",
       "    <tr>\n",
       "      <th>0</th>\n",
       "      <td>Andover</td>\n",
       "      <td>100,321</td>\n",
       "      <td>111,230</td>\n",
       "      <td>40,182</td>\n",
       "    </tr>\n",
       "    <tr>\n",
       "      <th>1</th>\n",
       "      <td>Ansonia</td>\n",
       "      <td>43,305</td>\n",
       "      <td>62,858</td>\n",
       "      <td>24,359</td>\n",
       "    </tr>\n",
       "    <tr>\n",
       "      <th>2</th>\n",
       "      <td>Ashford</td>\n",
       "      <td>77,870</td>\n",
       "      <td>95,339</td>\n",
       "      <td>39,139</td>\n",
       "    </tr>\n",
       "    <tr>\n",
       "      <th>3</th>\n",
       "      <td>Avon</td>\n",
       "      <td>123,894</td>\n",
       "      <td>172,245</td>\n",
       "      <td>66,822</td>\n",
       "    </tr>\n",
       "    <tr>\n",
       "      <th>4</th>\n",
       "      <td>Barkhamsted</td>\n",
       "      <td>95,735</td>\n",
       "      <td>102,210</td>\n",
       "      <td>40,156</td>\n",
       "    </tr>\n",
       "  </tbody>\n",
       "</table>\n",
       "</div>"
      ],
      "text/plain": [
       "          city median_household_income mean_household_income per_capita_income\n",
       "0      Andover                 100,321               111,230            40,182\n",
       "1      Ansonia                  43,305                62,858            24,359\n",
       "2      Ashford                  77,870                95,339            39,139\n",
       "3         Avon                 123,894               172,245            66,822\n",
       "4  Barkhamsted                  95,735               102,210            40,156"
      ]
     },
     "execution_count": 7,
     "metadata": {},
     "output_type": "execute_result"
    }
   ],
   "source": [
    "# Taking a look at the data\n",
    "df.head()"
   ]
  },
  {
   "cell_type": "code",
   "execution_count": 8,
   "metadata": {},
   "outputs": [
    {
     "data": {
      "text/plain": [
       "city                       object\n",
       "median_household_income    object\n",
       "mean_household_income      object\n",
       "per_capita_income          object\n",
       "dtype: object"
      ]
     },
     "execution_count": 8,
     "metadata": {},
     "output_type": "execute_result"
    }
   ],
   "source": [
    "# Checking the data types\n",
    "df.dtypes"
   ]
  },
  {
   "cell_type": "markdown",
   "metadata": {},
   "source": [
    "**Note:** the data types are strings when they should be integers. The commas are likely what is causing this."
   ]
  },
  {
   "cell_type": "code",
   "execution_count": 9,
   "metadata": {},
   "outputs": [],
   "source": [
    "# Getting rid of commas and casting the values to integers\n",
    "df['median_household_income'] = df['median_household_income'].str.replace(',', '').astype(int)\n",
    "df['mean_household_income'] = df['mean_household_income'].str.replace(',', '').astype(int)\n",
    "df['per_capita_income'] = df['per_capita_income'].str.replace(',', '').astype(int)"
   ]
  },
  {
   "cell_type": "markdown",
   "metadata": {},
   "source": [
    "## Median Household Income Buckets"
   ]
  },
  {
   "cell_type": "code",
   "execution_count": 11,
   "metadata": {
    "ExecuteTime": {
     "end_time": "2020-02-19T13:25:27.330216Z",
     "start_time": "2020-02-19T13:25:27.319822Z"
    }
   },
   "outputs": [],
   "source": [
    "# 1: $1 under $25,000\n",
    "# 2: $25,000 under $50,000\n",
    "# 3: $50,000 under $75,000\n",
    "# 4: $75,000 under $100,000\n",
    "# 5: $100,000 under $200,000\n",
    "# 6: $200,000 or more\n",
    "\n",
    "mask0_25k = (df['median_household_income'] > 0) & (df['median_household_income'] <= 25_000)\n",
    "mask25k_50k = (df['median_household_income'] >= 25_001) & (df['median_household_income'] <= 50_000)\n",
    "mask50k_75k = (df['median_household_income'] >= 50_001) & (df['median_household_income'] <= 75_000)\n",
    "mask75k_100k = (df['median_household_income'] >= 75_001) & (df['median_household_income'] <= 100_000)\n",
    "mask100k_200k = (df['median_household_income'] >= 100_001) & (df['median_household_income'] <= 200_000)\n",
    "mask200k_more = (df['median_household_income'] >= 200_001) "
   ]
  },
  {
   "cell_type": "code",
   "execution_count": 12,
   "metadata": {
    "ExecuteTime": {
     "end_time": "2020-02-19T13:25:31.997949Z",
     "start_time": "2020-02-19T13:25:31.983697Z"
    }
   },
   "outputs": [
    {
     "name": "stderr",
     "output_type": "stream",
     "text": [
      "/opt/anaconda3/lib/python3.7/site-packages/ipykernel_launcher.py:9: SettingWithCopyWarning: \n",
      "A value is trying to be set on a copy of a slice from a DataFrame.\n",
      "Try using .loc[row_indexer,col_indexer] = value instead\n",
      "\n",
      "See the caveats in the documentation: http://pandas.pydata.org/pandas-docs/stable/user_guide/indexing.html#returning-a-view-versus-a-copy\n",
      "  if __name__ == '__main__':\n",
      "/opt/anaconda3/lib/python3.7/site-packages/ipykernel_launcher.py:10: SettingWithCopyWarning: \n",
      "A value is trying to be set on a copy of a slice from a DataFrame.\n",
      "Try using .loc[row_indexer,col_indexer] = value instead\n",
      "\n",
      "See the caveats in the documentation: http://pandas.pydata.org/pandas-docs/stable/user_guide/indexing.html#returning-a-view-versus-a-copy\n",
      "  # Remove the CWD from sys.path while we load stuff.\n",
      "/opt/anaconda3/lib/python3.7/site-packages/ipykernel_launcher.py:11: SettingWithCopyWarning: \n",
      "A value is trying to be set on a copy of a slice from a DataFrame.\n",
      "Try using .loc[row_indexer,col_indexer] = value instead\n",
      "\n",
      "See the caveats in the documentation: http://pandas.pydata.org/pandas-docs/stable/user_guide/indexing.html#returning-a-view-versus-a-copy\n",
      "  # This is added back by InteractiveShellApp.init_path()\n",
      "/opt/anaconda3/lib/python3.7/site-packages/ipykernel_launcher.py:12: SettingWithCopyWarning: \n",
      "A value is trying to be set on a copy of a slice from a DataFrame.\n",
      "Try using .loc[row_indexer,col_indexer] = value instead\n",
      "\n",
      "See the caveats in the documentation: http://pandas.pydata.org/pandas-docs/stable/user_guide/indexing.html#returning-a-view-versus-a-copy\n",
      "  if sys.path[0] == '':\n",
      "/opt/anaconda3/lib/python3.7/site-packages/ipykernel_launcher.py:13: SettingWithCopyWarning: \n",
      "A value is trying to be set on a copy of a slice from a DataFrame.\n",
      "Try using .loc[row_indexer,col_indexer] = value instead\n",
      "\n",
      "See the caveats in the documentation: http://pandas.pydata.org/pandas-docs/stable/user_guide/indexing.html#returning-a-view-versus-a-copy\n",
      "  del sys.path[0]\n"
     ]
    }
   ],
   "source": [
    "bucket1 = df.loc[mask0_25k]\n",
    "bucket2 = df.loc[mask25k_50k]\n",
    "bucket3 = df.loc[mask50k_75k]\n",
    "bucket4 = df.loc[mask75k_100k]\n",
    "bucket5 = df.loc[mask100k_200k]\n",
    "bucket6 = df.loc[mask200k_more]\n",
    "\n",
    "bucket1['median_bucket'] = 1\n",
    "bucket2['median_bucket'] = 2\n",
    "bucket3['median_bucket'] = 3\n",
    "bucket4['median_bucket'] = 4\n",
    "bucket5['median_bucket'] = 5\n",
    "bucket6['median_bucket'] = 6"
   ]
  },
  {
   "cell_type": "code",
   "execution_count": 13,
   "metadata": {
    "ExecuteTime": {
     "end_time": "2020-02-19T13:25:36.302979Z",
     "start_time": "2020-02-19T13:25:36.294288Z"
    }
   },
   "outputs": [],
   "source": [
    "df_bucket = pd.concat([bucket1,bucket2,bucket3,bucket4,bucket5,bucket6,], axis = 0)"
   ]
  },
  {
   "cell_type": "code",
   "execution_count": 14,
   "metadata": {
    "ExecuteTime": {
     "end_time": "2020-02-19T13:25:42.604036Z",
     "start_time": "2020-02-19T13:25:42.599340Z"
    }
   },
   "outputs": [
    {
     "data": {
      "text/plain": [
       "(169, 5)"
      ]
     },
     "execution_count": 14,
     "metadata": {},
     "output_type": "execute_result"
    }
   ],
   "source": [
    "df_bucket.shape"
   ]
  },
  {
   "cell_type": "code",
   "execution_count": 15,
   "metadata": {
    "ExecuteTime": {
     "end_time": "2020-02-19T13:25:53.621852Z",
     "start_time": "2020-02-19T13:25:53.616044Z"
    }
   },
   "outputs": [],
   "source": [
    "# Sort by city \n",
    "df_bucket.sort_values(by = 'city', inplace = True)"
   ]
  },
  {
   "cell_type": "code",
   "execution_count": 16,
   "metadata": {
    "ExecuteTime": {
     "end_time": "2020-02-19T13:25:55.770096Z",
     "start_time": "2020-02-19T13:25:55.760711Z"
    }
   },
   "outputs": [
    {
     "data": {
      "text/html": [
       "<div>\n",
       "<style scoped>\n",
       "    .dataframe tbody tr th:only-of-type {\n",
       "        vertical-align: middle;\n",
       "    }\n",
       "\n",
       "    .dataframe tbody tr th {\n",
       "        vertical-align: top;\n",
       "    }\n",
       "\n",
       "    .dataframe thead th {\n",
       "        text-align: right;\n",
       "    }\n",
       "</style>\n",
       "<table border=\"1\" class=\"dataframe\">\n",
       "  <thead>\n",
       "    <tr style=\"text-align: right;\">\n",
       "      <th></th>\n",
       "      <th>city</th>\n",
       "      <th>median_household_income</th>\n",
       "      <th>mean_household_income</th>\n",
       "      <th>per_capita_income</th>\n",
       "      <th>median_bucket</th>\n",
       "    </tr>\n",
       "  </thead>\n",
       "  <tbody>\n",
       "    <tr>\n",
       "      <th>0</th>\n",
       "      <td>Andover</td>\n",
       "      <td>100321</td>\n",
       "      <td>111230</td>\n",
       "      <td>40182</td>\n",
       "      <td>5</td>\n",
       "    </tr>\n",
       "    <tr>\n",
       "      <th>1</th>\n",
       "      <td>Ansonia</td>\n",
       "      <td>43305</td>\n",
       "      <td>62858</td>\n",
       "      <td>24359</td>\n",
       "      <td>2</td>\n",
       "    </tr>\n",
       "    <tr>\n",
       "      <th>2</th>\n",
       "      <td>Ashford</td>\n",
       "      <td>77870</td>\n",
       "      <td>95339</td>\n",
       "      <td>39139</td>\n",
       "      <td>4</td>\n",
       "    </tr>\n",
       "    <tr>\n",
       "      <th>3</th>\n",
       "      <td>Avon</td>\n",
       "      <td>123894</td>\n",
       "      <td>172245</td>\n",
       "      <td>66822</td>\n",
       "      <td>5</td>\n",
       "    </tr>\n",
       "    <tr>\n",
       "      <th>4</th>\n",
       "      <td>Barkhamsted</td>\n",
       "      <td>95735</td>\n",
       "      <td>102210</td>\n",
       "      <td>40156</td>\n",
       "      <td>4</td>\n",
       "    </tr>\n",
       "  </tbody>\n",
       "</table>\n",
       "</div>"
      ],
      "text/plain": [
       "          city  median_household_income  mean_household_income  \\\n",
       "0      Andover                   100321                 111230   \n",
       "1      Ansonia                    43305                  62858   \n",
       "2      Ashford                    77870                  95339   \n",
       "3         Avon                   123894                 172245   \n",
       "4  Barkhamsted                    95735                 102210   \n",
       "\n",
       "   per_capita_income  median_bucket  \n",
       "0              40182              5  \n",
       "1              24359              2  \n",
       "2              39139              4  \n",
       "3              66822              5  \n",
       "4              40156              4  "
      ]
     },
     "execution_count": 16,
     "metadata": {},
     "output_type": "execute_result"
    }
   ],
   "source": [
    "df_bucket.head()"
   ]
  },
  {
   "cell_type": "markdown",
   "metadata": {},
   "source": [
    "## Mean Household Income Buckets"
   ]
  },
  {
   "cell_type": "code",
   "execution_count": 17,
   "metadata": {
    "ExecuteTime": {
     "end_time": "2020-02-19T13:26:42.448548Z",
     "start_time": "2020-02-19T13:26:42.438782Z"
    }
   },
   "outputs": [],
   "source": [
    "# 1: $1 under $25,000\n",
    "# 2: $25,000 under $50,000\n",
    "# 3: $50,000 under $75,000\n",
    "# 4: $75,000 under $100,000\n",
    "# 5: $100,000 under $200,000\n",
    "# 6: $200,000 or more\n",
    "\n",
    "mask0_25k = (df_bucket['mean_household_income'] > 0) & (df_bucket['mean_household_income'] <= 25_000)\n",
    "mask25k_50k = (df_bucket['mean_household_income'] >= 25_001) & (df_bucket['mean_household_income'] <= 50_000)\n",
    "mask50k_75k = (df_bucket['mean_household_income'] >= 50_001) & (df_bucket['mean_household_income'] <= 75_000)\n",
    "mask75k_100k = (df_bucket['mean_household_income'] >= 75_001) & (df_bucket['mean_household_income'] <= 100_000)\n",
    "mask100k_200k = (df_bucket['mean_household_income'] >= 100_001) & (df_bucket['mean_household_income'] <= 200_000)\n",
    "mask200k_more = (df_bucket['mean_household_income'] >= 200_001) "
   ]
  },
  {
   "cell_type": "code",
   "execution_count": 18,
   "metadata": {
    "ExecuteTime": {
     "end_time": "2020-02-19T13:26:43.801340Z",
     "start_time": "2020-02-19T13:26:43.789586Z"
    }
   },
   "outputs": [
    {
     "name": "stderr",
     "output_type": "stream",
     "text": [
      "/opt/anaconda3/lib/python3.7/site-packages/ipykernel_launcher.py:9: SettingWithCopyWarning: \n",
      "A value is trying to be set on a copy of a slice from a DataFrame.\n",
      "Try using .loc[row_indexer,col_indexer] = value instead\n",
      "\n",
      "See the caveats in the documentation: http://pandas.pydata.org/pandas-docs/stable/user_guide/indexing.html#returning-a-view-versus-a-copy\n",
      "  if __name__ == '__main__':\n",
      "/opt/anaconda3/lib/python3.7/site-packages/ipykernel_launcher.py:10: SettingWithCopyWarning: \n",
      "A value is trying to be set on a copy of a slice from a DataFrame.\n",
      "Try using .loc[row_indexer,col_indexer] = value instead\n",
      "\n",
      "See the caveats in the documentation: http://pandas.pydata.org/pandas-docs/stable/user_guide/indexing.html#returning-a-view-versus-a-copy\n",
      "  # Remove the CWD from sys.path while we load stuff.\n",
      "/opt/anaconda3/lib/python3.7/site-packages/ipykernel_launcher.py:11: SettingWithCopyWarning: \n",
      "A value is trying to be set on a copy of a slice from a DataFrame.\n",
      "Try using .loc[row_indexer,col_indexer] = value instead\n",
      "\n",
      "See the caveats in the documentation: http://pandas.pydata.org/pandas-docs/stable/user_guide/indexing.html#returning-a-view-versus-a-copy\n",
      "  # This is added back by InteractiveShellApp.init_path()\n",
      "/opt/anaconda3/lib/python3.7/site-packages/ipykernel_launcher.py:12: SettingWithCopyWarning: \n",
      "A value is trying to be set on a copy of a slice from a DataFrame.\n",
      "Try using .loc[row_indexer,col_indexer] = value instead\n",
      "\n",
      "See the caveats in the documentation: http://pandas.pydata.org/pandas-docs/stable/user_guide/indexing.html#returning-a-view-versus-a-copy\n",
      "  if sys.path[0] == '':\n",
      "/opt/anaconda3/lib/python3.7/site-packages/ipykernel_launcher.py:13: SettingWithCopyWarning: \n",
      "A value is trying to be set on a copy of a slice from a DataFrame.\n",
      "Try using .loc[row_indexer,col_indexer] = value instead\n",
      "\n",
      "See the caveats in the documentation: http://pandas.pydata.org/pandas-docs/stable/user_guide/indexing.html#returning-a-view-versus-a-copy\n",
      "  del sys.path[0]\n"
     ]
    }
   ],
   "source": [
    "bucket1 = df_bucket.loc[mask0_25k]\n",
    "bucket2 = df_bucket.loc[mask25k_50k]\n",
    "bucket3 = df_bucket.loc[mask50k_75k]\n",
    "bucket4 = df_bucket.loc[mask75k_100k]\n",
    "bucket5 = df_bucket.loc[mask100k_200k]\n",
    "bucket6 = df_bucket.loc[mask200k_more]\n",
    "\n",
    "bucket1['mean_bucket'] = 1\n",
    "bucket2['mean_bucket'] = 2\n",
    "bucket3['mean_bucket'] = 3\n",
    "bucket4['mean_bucket'] = 4\n",
    "bucket5['mean_bucket'] = 5\n",
    "bucket6['mean_bucket'] = 6"
   ]
  },
  {
   "cell_type": "code",
   "execution_count": 19,
   "metadata": {
    "ExecuteTime": {
     "end_time": "2020-02-19T13:26:46.273352Z",
     "start_time": "2020-02-19T13:26:46.263371Z"
    }
   },
   "outputs": [],
   "source": [
    "df_bucket = pd.concat([bucket1,bucket2,bucket3,bucket4,bucket5,bucket6,], axis = 0)"
   ]
  },
  {
   "cell_type": "code",
   "execution_count": 20,
   "metadata": {
    "ExecuteTime": {
     "end_time": "2020-02-19T13:26:49.121000Z",
     "start_time": "2020-02-19T13:26:49.110557Z"
    }
   },
   "outputs": [
    {
     "data": {
      "text/html": [
       "<div>\n",
       "<style scoped>\n",
       "    .dataframe tbody tr th:only-of-type {\n",
       "        vertical-align: middle;\n",
       "    }\n",
       "\n",
       "    .dataframe tbody tr th {\n",
       "        vertical-align: top;\n",
       "    }\n",
       "\n",
       "    .dataframe thead th {\n",
       "        text-align: right;\n",
       "    }\n",
       "</style>\n",
       "<table border=\"1\" class=\"dataframe\">\n",
       "  <thead>\n",
       "    <tr style=\"text-align: right;\">\n",
       "      <th></th>\n",
       "      <th>city</th>\n",
       "      <th>median_household_income</th>\n",
       "      <th>mean_household_income</th>\n",
       "      <th>per_capita_income</th>\n",
       "      <th>median_bucket</th>\n",
       "      <th>mean_bucket</th>\n",
       "    </tr>\n",
       "  </thead>\n",
       "  <tbody>\n",
       "    <tr>\n",
       "      <th>63</th>\n",
       "      <td>Hartford</td>\n",
       "      <td>30630</td>\n",
       "      <td>44434</td>\n",
       "      <td>17311</td>\n",
       "      <td>2</td>\n",
       "      <td>2</td>\n",
       "    </tr>\n",
       "    <tr>\n",
       "      <th>1</th>\n",
       "      <td>Ansonia</td>\n",
       "      <td>43305</td>\n",
       "      <td>62858</td>\n",
       "      <td>24359</td>\n",
       "      <td>2</td>\n",
       "      <td>3</td>\n",
       "    </tr>\n",
       "    <tr>\n",
       "      <th>14</th>\n",
       "      <td>Bridgeport</td>\n",
       "      <td>41801</td>\n",
       "      <td>56565</td>\n",
       "      <td>21002</td>\n",
       "      <td>2</td>\n",
       "      <td>3</td>\n",
       "    </tr>\n",
       "    <tr>\n",
       "      <th>16</th>\n",
       "      <td>Bristol</td>\n",
       "      <td>61478</td>\n",
       "      <td>74762</td>\n",
       "      <td>31709</td>\n",
       "      <td>3</td>\n",
       "      <td>3</td>\n",
       "    </tr>\n",
       "    <tr>\n",
       "      <th>18</th>\n",
       "      <td>Brooklyn</td>\n",
       "      <td>60694</td>\n",
       "      <td>74756</td>\n",
       "      <td>27244</td>\n",
       "      <td>3</td>\n",
       "      <td>3</td>\n",
       "    </tr>\n",
       "  </tbody>\n",
       "</table>\n",
       "</div>"
      ],
      "text/plain": [
       "          city  median_household_income  mean_household_income  \\\n",
       "63    Hartford                    30630                  44434   \n",
       "1      Ansonia                    43305                  62858   \n",
       "14  Bridgeport                    41801                  56565   \n",
       "16     Bristol                    61478                  74762   \n",
       "18    Brooklyn                    60694                  74756   \n",
       "\n",
       "    per_capita_income  median_bucket  mean_bucket  \n",
       "63              17311              2            2  \n",
       "1               24359              2            3  \n",
       "14              21002              2            3  \n",
       "16              31709              3            3  \n",
       "18              27244              3            3  "
      ]
     },
     "execution_count": 20,
     "metadata": {},
     "output_type": "execute_result"
    }
   ],
   "source": [
    "df_bucket.head()"
   ]
  },
  {
   "cell_type": "code",
   "execution_count": 21,
   "metadata": {
    "ExecuteTime": {
     "end_time": "2020-02-19T13:26:59.233755Z",
     "start_time": "2020-02-19T13:26:59.228726Z"
    }
   },
   "outputs": [],
   "source": [
    "df_bucket.sort_values(by = 'city', inplace = True)"
   ]
  },
  {
   "cell_type": "code",
   "execution_count": 22,
   "metadata": {
    "ExecuteTime": {
     "end_time": "2020-02-19T13:27:00.797616Z",
     "start_time": "2020-02-19T13:27:00.788025Z"
    }
   },
   "outputs": [
    {
     "data": {
      "text/html": [
       "<div>\n",
       "<style scoped>\n",
       "    .dataframe tbody tr th:only-of-type {\n",
       "        vertical-align: middle;\n",
       "    }\n",
       "\n",
       "    .dataframe tbody tr th {\n",
       "        vertical-align: top;\n",
       "    }\n",
       "\n",
       "    .dataframe thead th {\n",
       "        text-align: right;\n",
       "    }\n",
       "</style>\n",
       "<table border=\"1\" class=\"dataframe\">\n",
       "  <thead>\n",
       "    <tr style=\"text-align: right;\">\n",
       "      <th></th>\n",
       "      <th>city</th>\n",
       "      <th>median_household_income</th>\n",
       "      <th>mean_household_income</th>\n",
       "      <th>per_capita_income</th>\n",
       "      <th>median_bucket</th>\n",
       "      <th>mean_bucket</th>\n",
       "    </tr>\n",
       "  </thead>\n",
       "  <tbody>\n",
       "    <tr>\n",
       "      <th>0</th>\n",
       "      <td>Andover</td>\n",
       "      <td>100321</td>\n",
       "      <td>111230</td>\n",
       "      <td>40182</td>\n",
       "      <td>5</td>\n",
       "      <td>5</td>\n",
       "    </tr>\n",
       "    <tr>\n",
       "      <th>1</th>\n",
       "      <td>Ansonia</td>\n",
       "      <td>43305</td>\n",
       "      <td>62858</td>\n",
       "      <td>24359</td>\n",
       "      <td>2</td>\n",
       "      <td>3</td>\n",
       "    </tr>\n",
       "    <tr>\n",
       "      <th>2</th>\n",
       "      <td>Ashford</td>\n",
       "      <td>77870</td>\n",
       "      <td>95339</td>\n",
       "      <td>39139</td>\n",
       "      <td>4</td>\n",
       "      <td>4</td>\n",
       "    </tr>\n",
       "    <tr>\n",
       "      <th>3</th>\n",
       "      <td>Avon</td>\n",
       "      <td>123894</td>\n",
       "      <td>172245</td>\n",
       "      <td>66822</td>\n",
       "      <td>5</td>\n",
       "      <td>5</td>\n",
       "    </tr>\n",
       "    <tr>\n",
       "      <th>4</th>\n",
       "      <td>Barkhamsted</td>\n",
       "      <td>95735</td>\n",
       "      <td>102210</td>\n",
       "      <td>40156</td>\n",
       "      <td>4</td>\n",
       "      <td>5</td>\n",
       "    </tr>\n",
       "  </tbody>\n",
       "</table>\n",
       "</div>"
      ],
      "text/plain": [
       "          city  median_household_income  mean_household_income  \\\n",
       "0      Andover                   100321                 111230   \n",
       "1      Ansonia                    43305                  62858   \n",
       "2      Ashford                    77870                  95339   \n",
       "3         Avon                   123894                 172245   \n",
       "4  Barkhamsted                    95735                 102210   \n",
       "\n",
       "   per_capita_income  median_bucket  mean_bucket  \n",
       "0              40182              5            5  \n",
       "1              24359              2            3  \n",
       "2              39139              4            4  \n",
       "3              66822              5            5  \n",
       "4              40156              4            5  "
      ]
     },
     "execution_count": 22,
     "metadata": {},
     "output_type": "execute_result"
    }
   ],
   "source": [
    "df_bucket.head()"
   ]
  },
  {
   "cell_type": "markdown",
   "metadata": {},
   "source": [
    "#### Export"
   ]
  },
  {
   "cell_type": "code",
   "execution_count": 23,
   "metadata": {
    "ExecuteTime": {
     "end_time": "2020-02-19T13:27:05.620419Z",
     "start_time": "2020-02-19T13:27:05.613249Z"
    }
   },
   "outputs": [],
   "source": [
    "df_bucket.to_csv('../data/ct_income_clean.csv', index=False)"
   ]
  },
  {
   "cell_type": "markdown",
   "metadata": {},
   "source": [
    "## Per Capita Income Buckets"
   ]
  },
  {
   "cell_type": "code",
   "execution_count": null,
   "metadata": {
    "ExecuteTime": {
     "end_time": "2020-02-19T00:06:17.898886Z",
     "start_time": "2020-02-19T00:06:17.890058Z"
    }
   },
   "outputs": [],
   "source": [
    "df_bucket['per_capita_income'].describe()"
   ]
  },
  {
   "cell_type": "code",
   "execution_count": null,
   "metadata": {},
   "outputs": [],
   "source": []
  }
 ],
 "metadata": {
  "kernelspec": {
   "display_name": "Python 3",
   "language": "python",
   "name": "python3"
  },
  "language_info": {
   "codemirror_mode": {
    "name": "ipython",
    "version": 3
   },
   "file_extension": ".py",
   "mimetype": "text/x-python",
   "name": "python",
   "nbconvert_exporter": "python",
   "pygments_lexer": "ipython3",
   "version": "3.7.4"
  },
  "toc": {
   "base_numbering": 1,
   "nav_menu": {},
   "number_sections": true,
   "sideBar": true,
   "skip_h1_title": false,
   "title_cell": "Table of Contents",
   "title_sidebar": "Contents",
   "toc_cell": false,
   "toc_position": {},
   "toc_section_display": true,
   "toc_window_display": false
  },
  "varInspector": {
   "cols": {
    "lenName": 16,
    "lenType": 16,
    "lenVar": 40
   },
   "kernels_config": {
    "python": {
     "delete_cmd_postfix": "",
     "delete_cmd_prefix": "del ",
     "library": "var_list.py",
     "varRefreshCmd": "print(var_dic_list())"
    },
    "r": {
     "delete_cmd_postfix": ") ",
     "delete_cmd_prefix": "rm(",
     "library": "var_list.r",
     "varRefreshCmd": "cat(var_dic_list()) "
    }
   },
   "types_to_exclude": [
    "module",
    "function",
    "builtin_function_or_method",
    "instance",
    "_Feature"
   ],
   "window_display": false
  }
 },
 "nbformat": 4,
 "nbformat_minor": 2
}
